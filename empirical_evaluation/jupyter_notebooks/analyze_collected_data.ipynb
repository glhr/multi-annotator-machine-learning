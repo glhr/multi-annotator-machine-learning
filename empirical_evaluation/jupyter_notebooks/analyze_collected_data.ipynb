{
 "cells": [
  {
   "cell_type": "code",
   "execution_count": null,
   "id": "initial_id",
   "metadata": {
    "collapsed": true
   },
   "outputs": [],
   "source": [
    "import sys\n",
    "\n",
    "# TODO: Append the path to your `multi-annotator-machine-learning` project.\n",
    "sys.path.append(\"../../\")\n",
    "\n",
    "from skactiveml.utils import ExtLabelEncoder\n",
    "from maml.data import Dopanim\n",
    "from maml.utils import (\n",
    "    plot_annotation_calibration_curves,\n",
    "    plot_annotation_times_histograms,\n",
    "    plot_annotation_confusion_matrices,\n",
    "    plot_annotator_metadata_correlation,\n",
    ")\n",
    "\n",
    "# TODO: Adjust data path to your dataset.\n",
    "DATA_PATH = \".\"\n",
    "\n",
    "# TODO: Adjust flag for downloading the dataset.\n",
    "DOWNLOAD = False\n",
    "\n",
    "# TODO: Adjust path for saving figures.\n",
    "FIGURE_PATH = \".\""
   ]
  },
  {
   "cell_type": "markdown",
   "source": [
    "### Load Data"
   ],
   "metadata": {
    "collapsed": false
   },
   "id": "c7e9b53481128098"
  },
  {
   "cell_type": "code",
   "execution_count": null,
   "outputs": [],
   "source": [
    "train_ds = Dopanim(DATA_PATH, version='train', variant='full', download=DOWNLOAD)\n",
    "y_true, observation_ids = train_ds.load_true_class_labels()\n",
    "le = ExtLabelEncoder(missing_label=None).fit(y_true)\n",
    "y_true_enc = le.transform(y_true)\n",
    "annotation_inconsistencies = train_ds.load_annotation_consistencies(\n",
    "    observation_ids=observation_ids, annotators=train_ds.annotators\n",
    ")\n",
    "annotation_times = train_ds.load_annotation_times(\n",
    "    observation_ids=observation_ids,\n",
    "    annotators=train_ds.annotators,\n",
    ")\n",
    "likelihoods = train_ds.load_likelihoods(\n",
    "    observation_ids=observation_ids,\n",
    "    annotators=train_ds.annotators,\n",
    "    classes=le.classes_,\n",
    "    normalize=True,\n",
    ")\n",
    "annotator_metadata, annotator_feature_names = train_ds.load_annotator_metadata(\n",
    "    annotators=train_ds.annotators\n",
    ")"
   ],
   "metadata": {
    "collapsed": false
   },
   "id": "1578979f1fb334e1"
  },
  {
   "cell_type": "markdown",
   "source": [
    "### Plot Calibration Curves"
   ],
   "metadata": {
    "collapsed": false
   },
   "id": "271243dfa9eea1db"
  },
  {
   "cell_type": "code",
   "execution_count": null,
   "outputs": [],
   "source": [
    "plot_annotation_calibration_curves(\n",
    "    likelihoods=likelihoods, y_true=y_true, classes=train_ds.classes, n_bins=10, path=FIGURE_PATH,\n",
    ")"
   ],
   "metadata": {
    "collapsed": false
   },
   "id": "7ac3c593f14feb75"
  },
  {
   "cell_type": "markdown",
   "source": [
    "### Plot Annotation Times"
   ],
   "metadata": {
    "collapsed": false
   },
   "id": "85e7b2762c895918"
  },
  {
   "cell_type": "code",
   "execution_count": null,
   "outputs": [],
   "source": [
    "plot_annotation_times_histograms(times=annotation_times, n_bins=50, path=FIGURE_PATH)"
   ],
   "metadata": {
    "collapsed": false
   },
   "id": "37ded0cfa7aed113"
  },
  {
   "cell_type": "markdown",
   "source": [
    "### Plot Confusion Matrices"
   ],
   "metadata": {
    "collapsed": false
   },
   "id": "4045c0867d7888fa"
  },
  {
   "cell_type": "code",
   "execution_count": null,
   "outputs": [],
   "source": [
    "cm_all = plot_annotation_confusion_matrices(\n",
    "    likelihoods=likelihoods,\n",
    "    classes=train_ds.classes,\n",
    "    y_true=y_true,\n",
    "    path=FIGURE_PATH,\n",
    ")"
   ],
   "metadata": {
    "collapsed": false
   },
   "id": "2b4be97848b14ab1"
  },
  {
   "metadata": {},
   "cell_type": "markdown",
   "source": "### Plot Annotator Metadata",
   "id": "73e9142da5006b81"
  },
  {
   "cell_type": "code",
   "execution_count": null,
   "outputs": [],
   "source": [
    "print(annotator_feature_names)\n",
    "sub_indices = [12, 13, 4, 3, 9, 0]\n",
    "annotator_feature_names_sub = annotator_feature_names[sub_indices]\n",
    "annotator_metadata_sub = annotator_metadata[:, sub_indices]\n",
    "plot_annotator_metadata_correlation(\n",
    "    annotator_metadata=annotator_metadata_sub,\n",
    "    annotator_feature_names=annotator_feature_names_sub,\n",
    "    cm_all=cm_all,\n",
    "    path=FIGURE_PATH,\n",
    ")"
   ],
   "metadata": {
    "collapsed": false
   },
   "id": "a12ce0dac9fa0a3d"
  },
  {
   "metadata": {},
   "cell_type": "markdown",
   "source": "### Plot Annotation Time as a Function of Entropy",
   "id": "93f636881211f97e"
  },
  {
   "metadata": {},
   "cell_type": "code",
   "outputs": [],
   "execution_count": null,
   "source": [
    "likelihoods_new = likelihoods.reshape(-1, likelihoods.shape[-1])\n",
    "annotation_times_new = annotation_times.ravel()\n",
    "is_annotated = annotation_times_new != -1\n",
    "likelihoods_new = likelihoods_new[is_annotated]\n",
    "annotation_times_new = annotation_times_new[is_annotated]\n",
    "entropies = entr(likelihoods_new).sum(axis=1)\n",
    "bins = np.linspace(0, 1.75, num=10)\n",
    "binned_entropies = np.digitize(entropies, bins)\n",
    "fontsize = 18\n",
    "\n",
    "# Calculate the average annotation time for each bin\n",
    "average_times = np.array([np.mean(annotation_times_new[binned_entropies == i]) for i in range(1, len(bins))])\n",
    "counts = np.array([np.sum(binned_entropies == i) for i in range(1, len(bins))])\n",
    "\n",
    "# Calculate the center of each bin for plotting\n",
    "bin_centers = (bins[:-1] + bins[1:]) / 2\n",
    "\n",
    "# Plot the average annotation time per bin\n",
    "fig = plt.figure(figsize=(7, 5), dpi=100)  # plt.subplots_adjust(0, 0, 1, 1)\n",
    "ax_histogram = fig.add_axes([0.1, 0.1, 0.8, 0.8])  # Manually set the axes position\n",
    "ax_time = ax_histogram.twinx()\n",
    "ax_histogram.bar(bin_centers, counts, width=(bins[1] - bins[0]), color=\"#008080ff\")\n",
    "ax_time.plot(bin_centers, average_times, color=\"#800080ff\", lw=3)\n",
    "plt.savefig(FIGURE_PATH + \"/times_entropy.pdf\")\n",
    "plt.show()"
   ],
   "id": "5b6aba7404e5b3ab"
  }
 ],
 "metadata": {
  "kernelspec": {
   "display_name": "Python 3",
   "language": "python",
   "name": "python3"
  },
  "language_info": {
   "codemirror_mode": {
    "name": "ipython",
    "version": 2
   },
   "file_extension": ".py",
   "mimetype": "text/x-python",
   "name": "python",
   "nbconvert_exporter": "python",
   "pygments_lexer": "ipython2",
   "version": "2.7.6"
  }
 },
 "nbformat": 4,
 "nbformat_minor": 5
}
